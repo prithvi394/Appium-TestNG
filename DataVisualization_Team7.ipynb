{
  "nbformat": 4,
  "nbformat_minor": 0,
  "metadata": {
    "colab": {
      "name": "DataVisualization_Team7.ipynb",
      "provenance": [],
      "collapsed_sections": [],
      "authorship_tag": "ABX9TyOpsgLnp5bkedO3SRINYDZS",
      "include_colab_link": true
    },
    "kernelspec": {
      "name": "python3",
      "display_name": "Python 3"
    },
    "language_info": {
      "name": "python"
    }
  },
  "cells": [
    {
      "cell_type": "markdown",
      "metadata": {
        "id": "view-in-github",
        "colab_type": "text"
      },
      "source": [
        "<a href=\"https://colab.research.google.com/github/prithvi394/Appium-TestNG/blob/master/DataVisualization_Team7.ipynb\" target=\"_parent\"><img src=\"https://colab.research.google.com/assets/colab-badge.svg\" alt=\"Open In Colab\"/></a>"
      ]
    },
    {
      "cell_type": "code",
      "metadata": {
        "id": "2IcozqdsApsK",
        "colab": {
          "base_uri": "https://localhost:8080/"
        },
        "outputId": "acd811d5-ee18-426a-edbd-b94a47949a09"
      },
      "source": [
        "from google.colab import drive\n",
        "drive.mount('/content/drive')\n",
        "\n",
        "%cd '/content/drive/MyDrive/Team7'"
      ],
      "execution_count": 74,
      "outputs": [
        {
          "output_type": "stream",
          "text": [
            "Drive already mounted at /content/drive; to attempt to forcibly remount, call drive.mount(\"/content/drive\", force_remount=True).\n",
            "/content/drive/MyDrive/Team7\n"
          ],
          "name": "stdout"
        }
      ]
    },
    {
      "cell_type": "code",
      "metadata": {
        "colab": {
          "base_uri": "https://localhost:8080/"
        },
        "id": "j3_Dyu8RfdzV",
        "outputId": "544c2f78-0994-4ee9-fab3-cace74674feb"
      },
      "source": [
        "import sqlite3\n",
        "import pandas as pd\n",
        "import csv\n",
        "\n",
        "con = sqlite3.Connection('newdb.sqlite')\n",
        "cur = con.cursor()\n",
        "\n",
        "cur.execute(\"Select degree,COUNT(degree),salary from adult where salary= ' >50K' group by degree ;\")\n",
        "\n",
        "for record in cur.fetchall():\n",
        "  print(record)\n",
        "\n",
        "print(\"--------------------\")\n",
        "\n",
        "cur.execute(\"Select degree,COUNT(degree),salary from adult where salary= ' <=50K' group by degree ;\")\n",
        "\n",
        "for record1 in cur.fetchall():\n",
        "  print(record1)\n"
      ],
      "execution_count": 75,
      "outputs": [
        {
          "output_type": "stream",
          "text": [
            "(' 10th', 62, ' >50K')\n",
            "(' 11th', 60, ' >50K')\n",
            "(' 12th', 33, ' >50K')\n",
            "(' 1st-4th', 6, ' >50K')\n",
            "(' 5th-6th', 16, ' >50K')\n",
            "(' 7th-8th', 40, ' >50K')\n",
            "(' 9th', 27, ' >50K')\n",
            "(' Assoc-acdm', 265, ' >50K')\n",
            "(' Assoc-voc', 361, ' >50K')\n",
            "(' Bachelors', 2221, ' >50K')\n",
            "(' Doctorate', 306, ' >50K')\n",
            "(' HS-grad', 1675, ' >50K')\n",
            "(' Masters', 959, ' >50K')\n",
            "(' Prof-school', 423, ' >50K')\n",
            "(' Some-college', 1387, ' >50K')\n",
            "--------------------\n",
            "(' 10th', 871, ' <=50K')\n",
            "(' 11th', 1115, ' <=50K')\n",
            "(' 12th', 400, ' <=50K')\n",
            "(' 1st-4th', 162, ' <=50K')\n",
            "(' 5th-6th', 317, ' <=50K')\n",
            "(' 7th-8th', 606, ' <=50K')\n",
            "(' 9th', 487, ' <=50K')\n",
            "(' Assoc-acdm', 802, ' <=50K')\n",
            "(' Assoc-voc', 1021, ' <=50K')\n",
            "(' Bachelors', 3134, ' <=50K')\n",
            "(' Doctorate', 107, ' <=50K')\n",
            "(' HS-grad', 8826, ' <=50K')\n",
            "(' Masters', 764, ' <=50K')\n",
            "(' Preschool', 51, ' <=50K')\n",
            "(' Prof-school', 153, ' <=50K')\n",
            "(' Some-college', 5904, ' <=50K')\n"
          ],
          "name": "stdout"
        }
      ]
    }
  ]
}